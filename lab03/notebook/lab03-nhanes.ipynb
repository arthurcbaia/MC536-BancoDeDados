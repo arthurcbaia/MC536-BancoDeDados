{
 "cells": [
  {
   "cell_type": "markdown",
   "source": [
    "# National Health and Nutrition Examination Survey (NHANES)\n",
    "[https://wwwn.cdc.gov/nchs/nhanes/](https://wwwn.cdc.gov/nchs/nhanes/)\n",
    "\n",
    "Este laboratório usará dados extraídos do NHANES.\n",
    "\n",
    "## NHANES datasets from 2013-2014\n",
    "\n",
    "Foram extraídos dados do [NHANES 2013-2014](https://wwwn.cdc.gov/nchs/nhanes/continuousnhanes/default.aspx?BeginYear=2013).\n",
    "\n",
    "Os dados estão disponíveis em arquivos CSV no diretório `/data/nhanes`. Lá está disponível a documentação do esquema dos arquivos."
   ],
   "metadata": {}
  },
  {
   "cell_type": "markdown",
   "source": [
    "# Tarefa 1 - Esquema Relacional\r\n",
    "\r\n",
    "Analise os arquivos CSV que estão no diretório `/data/nhanes` e escreva um esquema relacional referente às tabelas, suas chaves primárias e estrangeiras (não é SQL ainda). Coloque a chave primária com dois underlines antes e dois depois:\r\n",
    "\r\n",
    "\r\n",
    "\r\n",
    "Pessoa (__Id__, Gênero, Idade)\r\n",
    "Medicamento(__Codigo__, NomeMedicamento)\r\n",
    "UsoMedicamento (IdPessoa,CodMedicamento,DiasUso)\r\n",
    "-CHE:IdPessoa from Pessoa\r\n",
    "-CHE:CodMedicamento from Medicamento\r\n"
   ],
   "metadata": {}
  },
  {
   "cell_type": "markdown",
   "source": [],
   "metadata": {}
  },
  {
   "cell_type": "markdown",
   "source": [
    "## Criação das Tabelas em SQL e Importação de Dados\n",
    "\n",
    "Considere o seguinte exemplo em que é criada uma tabela em SQL e importado dados do arquivo CSV `demographic-person.csv`."
   ],
   "metadata": {}
  },
  {
   "cell_type": "code",
   "execution_count": 3,
   "source": [
    "%defaultDatasource jdbc:h2:mem:db"
   ],
   "outputs": [],
   "metadata": {}
  },
  {
   "cell_type": "code",
   "execution_count": 4,
   "source": [
    "DROP TABLE IF EXISTS Pessoa"
   ],
   "outputs": [],
   "metadata": {}
  },
  {
   "cell_type": "code",
   "execution_count": 5,
   "source": [
    "CREATE TABLE Pessoa (\r\n",
    "  Id VARCHAR(5) NOT NULL,\r\n",
    "  Gender INTEGER,\r\n",
    "  Age INTEGER,\r\n",
    "  PRIMARY KEY(Id)\r\n",
    ") AS SELECT\r\n",
    "    id,\r\n",
    "    gender,\r\n",
    "    age\r\n",
    "FROM CSVREAD('data/demographic-person.csv');"
   ],
   "outputs": [],
   "metadata": {}
  },
  {
   "cell_type": "code",
   "execution_count": 6,
   "source": [
    "SELECT * FROM Pessoa;"
   ],
   "outputs": [
    {
     "output_type": "display_data",
     "data": {
      "application/vnd.jupyter.widget-view+json": {
       "model_id": "e2e105a8-a5d0-4700-861e-1fae581370be",
       "version_major": 2,
       "version_minor": 0
      },
      "application/vnd.code.notebook.error": {
       "name": "Error",
       "message": "INVALID mime type: method. Must be in the format \"type/subtype[;optionalparameter]\"",
       "stack": "Error: INVALID mime type: method. Must be in the format \"type/subtype[;optionalparameter]\"\n\tat new Tt (c:\\Users\\Arthur\\AppData\\Local\\Programs\\Microsoft VS Code\\resources\\app\\out\\vs\\workbench\\services\\extensions\\node\\extensionHostProcess.js:87:55799)\n\tat Function.text (c:\\Users\\Arthur\\AppData\\Local\\Programs\\Microsoft VS Code\\resources\\app\\out\\vs\\workbench\\services\\extensions\\node\\extensionHostProcess.js:87:56450)\n\tat d (c:\\Users\\Arthur\\AppData\\Local\\Programs\\Microsoft VS Code\\resources\\app\\extensions\\ipynb\\dist\\ipynbMain.js:1:139047)\n\tat l (c:\\Users\\Arthur\\AppData\\Local\\Programs\\Microsoft VS Code\\resources\\app\\extensions\\ipynb\\dist\\ipynbMain.js:1:139713)\n\tat p (c:\\Users\\Arthur\\AppData\\Local\\Programs\\Microsoft VS Code\\resources\\app\\extensions\\ipynb\\dist\\ipynbMain.js:1:140218)\n\tat Array.map (<anonymous>)\n\tat c:\\Users\\Arthur\\AppData\\Local\\Programs\\Microsoft VS Code\\resources\\app\\extensions\\ipynb\\dist\\ipynbMain.js:1:141404\n\tat c:\\Users\\Arthur\\AppData\\Local\\Programs\\Microsoft VS Code\\resources\\app\\extensions\\ipynb\\dist\\ipynbMain.js:1:141646\n\tat c:\\Users\\Arthur\\AppData\\Local\\Programs\\Microsoft VS Code\\resources\\app\\extensions\\ipynb\\dist\\ipynbMain.js:1:141653\n\tat Array.map (<anonymous>)\n\tat e.jupyterNotebookModelToNotebookData (c:\\Users\\Arthur\\AppData\\Local\\Programs\\Microsoft VS Code\\resources\\app\\extensions\\ipynb\\dist\\ipynbMain.js:1:140962)\n\tat e.NotebookSerializer.deserializeNotebook (c:\\Users\\Arthur\\AppData\\Local\\Programs\\Microsoft VS Code\\resources\\app\\extensions\\ipynb\\dist\\ipynbMain.js:1:142865)\n\tat P.$dataToNotebook (c:\\Users\\Arthur\\AppData\\Local\\Programs\\Microsoft VS Code\\resources\\app\\out\\vs\\workbench\\services\\extensions\\node\\extensionHostProcess.js:94:214167)\n\tat i._doInvokeHandler (c:\\Users\\Arthur\\AppData\\Local\\Programs\\Microsoft VS Code\\resources\\app\\out\\vs\\workbench\\services\\extensions\\node\\extensionHostProcess.js:98:13543)\n\tat i._invokeHandler (c:\\Users\\Arthur\\AppData\\Local\\Programs\\Microsoft VS Code\\resources\\app\\out\\vs\\workbench\\services\\extensions\\node\\extensionHostProcess.js:98:13227)\n\tat i._receiveRequest (c:\\Users\\Arthur\\AppData\\Local\\Programs\\Microsoft VS Code\\resources\\app\\out\\vs\\workbench\\services\\extensions\\node\\extensionHostProcess.js:98:11838)\n\tat i._receiveOneMessage (c:\\Users\\Arthur\\AppData\\Local\\Programs\\Microsoft VS Code\\resources\\app\\out\\vs\\workbench\\services\\extensions\\node\\extensionHostProcess.js:98:10766)\n\tat c:\\Users\\Arthur\\AppData\\Local\\Programs\\Microsoft VS Code\\resources\\app\\out\\vs\\workbench\\services\\extensions\\node\\extensionHostProcess.js:98:8663\n\tat c.fire (c:\\Users\\Arthur\\AppData\\Local\\Programs\\Microsoft VS Code\\resources\\app\\out\\vs\\workbench\\services\\extensions\\node\\extensionHostProcess.js:66:1712)\n\tat l.fire (c:\\Users\\Arthur\\AppData\\Local\\Programs\\Microsoft VS Code\\resources\\app\\out\\vs\\workbench\\services\\extensions\\node\\extensionHostProcess.js:74:15781)\n\tat c:\\Users\\Arthur\\AppData\\Local\\Programs\\Microsoft VS Code\\resources\\app\\out\\vs\\workbench\\services\\extensions\\node\\extensionHostProcess.js:113:30187\n\tat c.fire (c:\\Users\\Arthur\\AppData\\Local\\Programs\\Microsoft VS Code\\resources\\app\\out\\vs\\workbench\\services\\extensions\\node\\extensionHostProcess.js:66:1712)\n\tat l.fire (c:\\Users\\Arthur\\AppData\\Local\\Programs\\Microsoft VS Code\\resources\\app\\out\\vs\\workbench\\services\\extensions\\node\\extensionHostProcess.js:74:15781)\n\tat r._receiveMessage (c:\\Users\\Arthur\\AppData\\Local\\Programs\\Microsoft VS Code\\resources\\app\\out\\vs\\workbench\\services\\extensions\\node\\extensionHostProcess.js:74:21051)\n\tat c:\\Users\\Arthur\\AppData\\Local\\Programs\\Microsoft VS Code\\resources\\app\\out\\vs\\workbench\\services\\extensions\\node\\extensionHostProcess.js:74:17929\n\tat c.fire (c:\\Users\\Arthur\\AppData\\Local\\Programs\\Microsoft VS Code\\resources\\app\\out\\vs\\workbench\\services\\extensions\\node\\extensionHostProcess.js:66:1712)\n\tat v.acceptChunk (c:\\Users\\Arthur\\AppData\\Local\\Programs\\Microsoft VS Code\\resources\\app\\out\\vs\\workbench\\services\\extensions\\node\\extensionHostProcess.js:74:13142)\n\tat c:\\Users\\Arthur\\AppData\\Local\\Programs\\Microsoft VS Code\\resources\\app\\out\\vs\\workbench\\services\\extensions\\node\\extensionHostProcess.js:74:12490\n\tat Socket.w (c:\\Users\\Arthur\\AppData\\Local\\Programs\\Microsoft VS Code\\resources\\app\\out\\vs\\workbench\\services\\extensions\\node\\extensionHostProcess.js:113:13350)\n\tat Socket.emit (events.js:315:20)\n\tat addChunk (internal/streams/readable.js:309:12)\n\tat readableAddChunk (internal/streams/readable.js:284:9)\n\tat Socket.Readable.push (internal/streams/readable.js:223:10)\n\tat Pipe.onStreamRead (internal/stream_base_commons.js:188:23)"
      }
     },
     "metadata": {}
    }
   ],
   "metadata": {}
  },
  {
   "cell_type": "markdown",
   "source": [
    "# Tarefa 2 - Criação das Tabelas em SQL e Importação de Dados\n",
    "\n",
    "Escreva instruções SQL para montar as duas tabelas restante, conforme definido no esquema relacional da **Tarefa 1**.\n",
    "\n",
    "**Importante:** não defina chave primária para a tabela de uso de medicamento.\n",
    "\n",
    "Durante a criação das tabelas, realize a importação dos dados do arquivo CSV nas tabelas criadas, conforme exemplo anterior."
   ],
   "metadata": {}
  },
  {
   "cell_type": "code",
   "execution_count": 7,
   "source": [
    "DROP TABLE IF EXISTS Droga"
   ],
   "outputs": [],
   "metadata": {}
  },
  {
   "cell_type": "code",
   "execution_count": 8,
   "source": [
    "CREATE TABLE Droga (\r\n",
    "  Droga_Id VARCHAR(6) NOT NULL,\r\n",
    "  nomeDroga VARCHAR(100) NOT NULL,\r\n",
    "  PRIMARY KEY(Droga_Id)\r\n",
    ") AS SELECT\r\n",
    "    code,\r\n",
    "    name\r\n",
    "FROM CSVREAD('data/medications-drug.csv');"
   ],
   "outputs": [],
   "metadata": {}
  },
  {
   "cell_type": "code",
   "execution_count": 9,
   "source": [
    "SELECT * FROM Droga"
   ],
   "outputs": [
    {
     "output_type": "display_data",
     "data": {
      "application/vnd.jupyter.widget-view+json": {
       "model_id": "8a8e0cd8-7fb8-458e-9dc2-e45a2fc98765",
       "version_major": 2,
       "version_minor": 0
      },
      "application/vnd.code.notebook.error": {
       "name": "Error",
       "message": "INVALID mime type: method. Must be in the format \"type/subtype[;optionalparameter]\"",
       "stack": "Error: INVALID mime type: method. Must be in the format \"type/subtype[;optionalparameter]\"\n\tat new Tt (c:\\Users\\Arthur\\AppData\\Local\\Programs\\Microsoft VS Code\\resources\\app\\out\\vs\\workbench\\services\\extensions\\node\\extensionHostProcess.js:87:55799)\n\tat Function.text (c:\\Users\\Arthur\\AppData\\Local\\Programs\\Microsoft VS Code\\resources\\app\\out\\vs\\workbench\\services\\extensions\\node\\extensionHostProcess.js:87:56450)\n\tat d (c:\\Users\\Arthur\\AppData\\Local\\Programs\\Microsoft VS Code\\resources\\app\\extensions\\ipynb\\dist\\ipynbMain.js:1:139047)\n\tat l (c:\\Users\\Arthur\\AppData\\Local\\Programs\\Microsoft VS Code\\resources\\app\\extensions\\ipynb\\dist\\ipynbMain.js:1:139713)\n\tat p (c:\\Users\\Arthur\\AppData\\Local\\Programs\\Microsoft VS Code\\resources\\app\\extensions\\ipynb\\dist\\ipynbMain.js:1:140218)\n\tat Array.map (<anonymous>)\n\tat c:\\Users\\Arthur\\AppData\\Local\\Programs\\Microsoft VS Code\\resources\\app\\extensions\\ipynb\\dist\\ipynbMain.js:1:141404\n\tat c:\\Users\\Arthur\\AppData\\Local\\Programs\\Microsoft VS Code\\resources\\app\\extensions\\ipynb\\dist\\ipynbMain.js:1:141646\n\tat c:\\Users\\Arthur\\AppData\\Local\\Programs\\Microsoft VS Code\\resources\\app\\extensions\\ipynb\\dist\\ipynbMain.js:1:141653\n\tat Array.map (<anonymous>)\n\tat e.jupyterNotebookModelToNotebookData (c:\\Users\\Arthur\\AppData\\Local\\Programs\\Microsoft VS Code\\resources\\app\\extensions\\ipynb\\dist\\ipynbMain.js:1:140962)\n\tat e.NotebookSerializer.deserializeNotebook (c:\\Users\\Arthur\\AppData\\Local\\Programs\\Microsoft VS Code\\resources\\app\\extensions\\ipynb\\dist\\ipynbMain.js:1:142865)\n\tat P.$dataToNotebook (c:\\Users\\Arthur\\AppData\\Local\\Programs\\Microsoft VS Code\\resources\\app\\out\\vs\\workbench\\services\\extensions\\node\\extensionHostProcess.js:94:214167)\n\tat i._doInvokeHandler (c:\\Users\\Arthur\\AppData\\Local\\Programs\\Microsoft VS Code\\resources\\app\\out\\vs\\workbench\\services\\extensions\\node\\extensionHostProcess.js:98:13543)\n\tat i._invokeHandler (c:\\Users\\Arthur\\AppData\\Local\\Programs\\Microsoft VS Code\\resources\\app\\out\\vs\\workbench\\services\\extensions\\node\\extensionHostProcess.js:98:13227)\n\tat i._receiveRequest (c:\\Users\\Arthur\\AppData\\Local\\Programs\\Microsoft VS Code\\resources\\app\\out\\vs\\workbench\\services\\extensions\\node\\extensionHostProcess.js:98:11838)\n\tat i._receiveOneMessage (c:\\Users\\Arthur\\AppData\\Local\\Programs\\Microsoft VS Code\\resources\\app\\out\\vs\\workbench\\services\\extensions\\node\\extensionHostProcess.js:98:10766)\n\tat c:\\Users\\Arthur\\AppData\\Local\\Programs\\Microsoft VS Code\\resources\\app\\out\\vs\\workbench\\services\\extensions\\node\\extensionHostProcess.js:98:8663\n\tat c.fire (c:\\Users\\Arthur\\AppData\\Local\\Programs\\Microsoft VS Code\\resources\\app\\out\\vs\\workbench\\services\\extensions\\node\\extensionHostProcess.js:66:1712)\n\tat l.fire (c:\\Users\\Arthur\\AppData\\Local\\Programs\\Microsoft VS Code\\resources\\app\\out\\vs\\workbench\\services\\extensions\\node\\extensionHostProcess.js:74:15781)\n\tat c:\\Users\\Arthur\\AppData\\Local\\Programs\\Microsoft VS Code\\resources\\app\\out\\vs\\workbench\\services\\extensions\\node\\extensionHostProcess.js:113:30187\n\tat c.fire (c:\\Users\\Arthur\\AppData\\Local\\Programs\\Microsoft VS Code\\resources\\app\\out\\vs\\workbench\\services\\extensions\\node\\extensionHostProcess.js:66:1712)\n\tat l.fire (c:\\Users\\Arthur\\AppData\\Local\\Programs\\Microsoft VS Code\\resources\\app\\out\\vs\\workbench\\services\\extensions\\node\\extensionHostProcess.js:74:15781)\n\tat r._receiveMessage (c:\\Users\\Arthur\\AppData\\Local\\Programs\\Microsoft VS Code\\resources\\app\\out\\vs\\workbench\\services\\extensions\\node\\extensionHostProcess.js:74:21051)\n\tat c:\\Users\\Arthur\\AppData\\Local\\Programs\\Microsoft VS Code\\resources\\app\\out\\vs\\workbench\\services\\extensions\\node\\extensionHostProcess.js:74:17929\n\tat c.fire (c:\\Users\\Arthur\\AppData\\Local\\Programs\\Microsoft VS Code\\resources\\app\\out\\vs\\workbench\\services\\extensions\\node\\extensionHostProcess.js:66:1712)\n\tat v.acceptChunk (c:\\Users\\Arthur\\AppData\\Local\\Programs\\Microsoft VS Code\\resources\\app\\out\\vs\\workbench\\services\\extensions\\node\\extensionHostProcess.js:74:13142)\n\tat c:\\Users\\Arthur\\AppData\\Local\\Programs\\Microsoft VS Code\\resources\\app\\out\\vs\\workbench\\services\\extensions\\node\\extensionHostProcess.js:74:12490\n\tat Socket.w (c:\\Users\\Arthur\\AppData\\Local\\Programs\\Microsoft VS Code\\resources\\app\\out\\vs\\workbench\\services\\extensions\\node\\extensionHostProcess.js:113:13350)\n\tat Socket.emit (events.js:315:20)\n\tat addChunk (internal/streams/readable.js:309:12)\n\tat readableAddChunk (internal/streams/readable.js:284:9)\n\tat Socket.Readable.push (internal/streams/readable.js:223:10)\n\tat Pipe.onStreamRead (internal/stream_base_commons.js:188:23)"
      }
     },
     "metadata": {}
    }
   ],
   "metadata": {}
  },
  {
   "cell_type": "code",
   "execution_count": 55,
   "source": [
    "DROP TABLE IF EXISTS Uso\r\n"
   ],
   "outputs": [],
   "metadata": {}
  },
  {
   "cell_type": "code",
   "execution_count": 58,
   "source": [
    "CREATE TABLE Uso (\r\n",
    "    Person_Id VARCHAR (5) NOT NUll,\r\n",
    "    Droga_Id VARCHAR (6) NOT NUll,\r\n",
    "    Days_of_use INTEGER ,\r\n",
    "    FOREIGN KEY(Person_Id)\r\n",
    "        REFERENCES Pessoa(Id)\r\n",
    "          ON DELETE NO ACTION\r\n",
    "          ON UPDATE NO ACTION,\r\n",
    "    FOREIGN KEY (Droga_Id)\r\n",
    "        REFERENCES Droga(Droga_Id)\r\n",
    "            ON DELETE NO ACTION\r\n",
    "            ON DELETE NO ACTION\r\n",
    "    ) AS SELECT \r\n",
    "        person_id,\r\n",
    "        drug_code,\r\n",
    "        days_use\r\n",
    "    FROM CSVREAD('data/medications-use.csv');"
   ],
   "outputs": [],
   "metadata": {}
  },
  {
   "cell_type": "code",
   "execution_count": 59,
   "source": [
    "SELECT * FROM Uso"
   ],
   "outputs": [
    {
     "output_type": "display_data",
     "data": {
      "application/vnd.jupyter.widget-view+json": {
       "model_id": "c569e2b3-c9bb-4cc1-b957-4079aacf46ae",
       "version_major": 2,
       "version_minor": 0
      },
      "application/vnd.code.notebook.error": {
       "name": "Error",
       "message": "INVALID mime type: method. Must be in the format \"type/subtype[;optionalparameter]\"",
       "stack": "Error: INVALID mime type: method. Must be in the format \"type/subtype[;optionalparameter]\"\n\tat new Tt (c:\\Users\\Arthur\\AppData\\Local\\Programs\\Microsoft VS Code\\resources\\app\\out\\vs\\workbench\\services\\extensions\\node\\extensionHostProcess.js:87:55799)\n\tat Function.text (c:\\Users\\Arthur\\AppData\\Local\\Programs\\Microsoft VS Code\\resources\\app\\out\\vs\\workbench\\services\\extensions\\node\\extensionHostProcess.js:87:56450)\n\tat d (c:\\Users\\Arthur\\AppData\\Local\\Programs\\Microsoft VS Code\\resources\\app\\extensions\\ipynb\\dist\\ipynbMain.js:1:139047)\n\tat l (c:\\Users\\Arthur\\AppData\\Local\\Programs\\Microsoft VS Code\\resources\\app\\extensions\\ipynb\\dist\\ipynbMain.js:1:139713)\n\tat p (c:\\Users\\Arthur\\AppData\\Local\\Programs\\Microsoft VS Code\\resources\\app\\extensions\\ipynb\\dist\\ipynbMain.js:1:140218)\n\tat Array.map (<anonymous>)\n\tat c:\\Users\\Arthur\\AppData\\Local\\Programs\\Microsoft VS Code\\resources\\app\\extensions\\ipynb\\dist\\ipynbMain.js:1:141404\n\tat c:\\Users\\Arthur\\AppData\\Local\\Programs\\Microsoft VS Code\\resources\\app\\extensions\\ipynb\\dist\\ipynbMain.js:1:141646\n\tat c:\\Users\\Arthur\\AppData\\Local\\Programs\\Microsoft VS Code\\resources\\app\\extensions\\ipynb\\dist\\ipynbMain.js:1:141653\n\tat Array.map (<anonymous>)\n\tat e.jupyterNotebookModelToNotebookData (c:\\Users\\Arthur\\AppData\\Local\\Programs\\Microsoft VS Code\\resources\\app\\extensions\\ipynb\\dist\\ipynbMain.js:1:140962)\n\tat e.NotebookSerializer.deserializeNotebook (c:\\Users\\Arthur\\AppData\\Local\\Programs\\Microsoft VS Code\\resources\\app\\extensions\\ipynb\\dist\\ipynbMain.js:1:142865)\n\tat P.$dataToNotebook (c:\\Users\\Arthur\\AppData\\Local\\Programs\\Microsoft VS Code\\resources\\app\\out\\vs\\workbench\\services\\extensions\\node\\extensionHostProcess.js:94:214167)\n\tat i._doInvokeHandler (c:\\Users\\Arthur\\AppData\\Local\\Programs\\Microsoft VS Code\\resources\\app\\out\\vs\\workbench\\services\\extensions\\node\\extensionHostProcess.js:98:13543)\n\tat i._invokeHandler (c:\\Users\\Arthur\\AppData\\Local\\Programs\\Microsoft VS Code\\resources\\app\\out\\vs\\workbench\\services\\extensions\\node\\extensionHostProcess.js:98:13227)\n\tat i._receiveRequest (c:\\Users\\Arthur\\AppData\\Local\\Programs\\Microsoft VS Code\\resources\\app\\out\\vs\\workbench\\services\\extensions\\node\\extensionHostProcess.js:98:11838)\n\tat i._receiveOneMessage (c:\\Users\\Arthur\\AppData\\Local\\Programs\\Microsoft VS Code\\resources\\app\\out\\vs\\workbench\\services\\extensions\\node\\extensionHostProcess.js:98:10766)\n\tat c:\\Users\\Arthur\\AppData\\Local\\Programs\\Microsoft VS Code\\resources\\app\\out\\vs\\workbench\\services\\extensions\\node\\extensionHostProcess.js:98:8663\n\tat c.fire (c:\\Users\\Arthur\\AppData\\Local\\Programs\\Microsoft VS Code\\resources\\app\\out\\vs\\workbench\\services\\extensions\\node\\extensionHostProcess.js:66:1712)\n\tat l.fire (c:\\Users\\Arthur\\AppData\\Local\\Programs\\Microsoft VS Code\\resources\\app\\out\\vs\\workbench\\services\\extensions\\node\\extensionHostProcess.js:74:15781)\n\tat c:\\Users\\Arthur\\AppData\\Local\\Programs\\Microsoft VS Code\\resources\\app\\out\\vs\\workbench\\services\\extensions\\node\\extensionHostProcess.js:113:30187\n\tat c.fire (c:\\Users\\Arthur\\AppData\\Local\\Programs\\Microsoft VS Code\\resources\\app\\out\\vs\\workbench\\services\\extensions\\node\\extensionHostProcess.js:66:1712)\n\tat l.fire (c:\\Users\\Arthur\\AppData\\Local\\Programs\\Microsoft VS Code\\resources\\app\\out\\vs\\workbench\\services\\extensions\\node\\extensionHostProcess.js:74:15781)\n\tat r._receiveMessage (c:\\Users\\Arthur\\AppData\\Local\\Programs\\Microsoft VS Code\\resources\\app\\out\\vs\\workbench\\services\\extensions\\node\\extensionHostProcess.js:74:21051)\n\tat c:\\Users\\Arthur\\AppData\\Local\\Programs\\Microsoft VS Code\\resources\\app\\out\\vs\\workbench\\services\\extensions\\node\\extensionHostProcess.js:74:17929\n\tat c.fire (c:\\Users\\Arthur\\AppData\\Local\\Programs\\Microsoft VS Code\\resources\\app\\out\\vs\\workbench\\services\\extensions\\node\\extensionHostProcess.js:66:1712)\n\tat v.acceptChunk (c:\\Users\\Arthur\\AppData\\Local\\Programs\\Microsoft VS Code\\resources\\app\\out\\vs\\workbench\\services\\extensions\\node\\extensionHostProcess.js:74:13142)\n\tat c:\\Users\\Arthur\\AppData\\Local\\Programs\\Microsoft VS Code\\resources\\app\\out\\vs\\workbench\\services\\extensions\\node\\extensionHostProcess.js:74:12490\n\tat Socket.w (c:\\Users\\Arthur\\AppData\\Local\\Programs\\Microsoft VS Code\\resources\\app\\out\\vs\\workbench\\services\\extensions\\node\\extensionHostProcess.js:113:13350)\n\tat Socket.emit (events.js:315:20)\n\tat addChunk (internal/streams/readable.js:309:12)\n\tat readableAddChunk (internal/streams/readable.js:284:9)\n\tat Socket.Readable.push (internal/streams/readable.js:223:10)\n\tat Pipe.onStreamRead (internal/stream_base_commons.js:188:23)"
      }
     },
     "metadata": {}
    }
   ],
   "metadata": {}
  },
  {
   "cell_type": "markdown",
   "source": [
    "# Tarefa 3 - Consultas Simples\n",
    "\n",
    "Execute as consultas a seguir."
   ],
   "metadata": {}
  },
  {
   "cell_type": "markdown",
   "source": [
    "a) Liste pessoas com idade acima de 60"
   ],
   "metadata": {}
  },
  {
   "cell_type": "code",
   "execution_count": 21,
   "source": [
    "SELECT * FROM  Pessoa WHERE age > 60;"
   ],
   "outputs": [
    {
     "output_type": "display_data",
     "data": {
      "application/vnd.jupyter.widget-view+json": {
       "model_id": "6992b956-8ff8-4c26-96cf-e928f5b3672a",
       "version_major": 2,
       "version_minor": 0
      },
      "application/vnd.code.notebook.error": {
       "name": "Error",
       "message": "INVALID mime type: method. Must be in the format \"type/subtype[;optionalparameter]\"",
       "stack": "Error: INVALID mime type: method. Must be in the format \"type/subtype[;optionalparameter]\"\n\tat new Tt (c:\\Users\\Arthur\\AppData\\Local\\Programs\\Microsoft VS Code\\resources\\app\\out\\vs\\workbench\\services\\extensions\\node\\extensionHostProcess.js:87:55799)\n\tat Function.text (c:\\Users\\Arthur\\AppData\\Local\\Programs\\Microsoft VS Code\\resources\\app\\out\\vs\\workbench\\services\\extensions\\node\\extensionHostProcess.js:87:56450)\n\tat d (c:\\Users\\Arthur\\AppData\\Local\\Programs\\Microsoft VS Code\\resources\\app\\extensions\\ipynb\\dist\\ipynbMain.js:1:139047)\n\tat l (c:\\Users\\Arthur\\AppData\\Local\\Programs\\Microsoft VS Code\\resources\\app\\extensions\\ipynb\\dist\\ipynbMain.js:1:139713)\n\tat p (c:\\Users\\Arthur\\AppData\\Local\\Programs\\Microsoft VS Code\\resources\\app\\extensions\\ipynb\\dist\\ipynbMain.js:1:140218)\n\tat Array.map (<anonymous>)\n\tat c:\\Users\\Arthur\\AppData\\Local\\Programs\\Microsoft VS Code\\resources\\app\\extensions\\ipynb\\dist\\ipynbMain.js:1:141404\n\tat c:\\Users\\Arthur\\AppData\\Local\\Programs\\Microsoft VS Code\\resources\\app\\extensions\\ipynb\\dist\\ipynbMain.js:1:141646\n\tat c:\\Users\\Arthur\\AppData\\Local\\Programs\\Microsoft VS Code\\resources\\app\\extensions\\ipynb\\dist\\ipynbMain.js:1:141653\n\tat Array.map (<anonymous>)\n\tat e.jupyterNotebookModelToNotebookData (c:\\Users\\Arthur\\AppData\\Local\\Programs\\Microsoft VS Code\\resources\\app\\extensions\\ipynb\\dist\\ipynbMain.js:1:140962)\n\tat e.NotebookSerializer.deserializeNotebook (c:\\Users\\Arthur\\AppData\\Local\\Programs\\Microsoft VS Code\\resources\\app\\extensions\\ipynb\\dist\\ipynbMain.js:1:142865)\n\tat P.$dataToNotebook (c:\\Users\\Arthur\\AppData\\Local\\Programs\\Microsoft VS Code\\resources\\app\\out\\vs\\workbench\\services\\extensions\\node\\extensionHostProcess.js:94:214167)\n\tat i._doInvokeHandler (c:\\Users\\Arthur\\AppData\\Local\\Programs\\Microsoft VS Code\\resources\\app\\out\\vs\\workbench\\services\\extensions\\node\\extensionHostProcess.js:98:13543)\n\tat i._invokeHandler (c:\\Users\\Arthur\\AppData\\Local\\Programs\\Microsoft VS Code\\resources\\app\\out\\vs\\workbench\\services\\extensions\\node\\extensionHostProcess.js:98:13227)\n\tat i._receiveRequest (c:\\Users\\Arthur\\AppData\\Local\\Programs\\Microsoft VS Code\\resources\\app\\out\\vs\\workbench\\services\\extensions\\node\\extensionHostProcess.js:98:11838)\n\tat i._receiveOneMessage (c:\\Users\\Arthur\\AppData\\Local\\Programs\\Microsoft VS Code\\resources\\app\\out\\vs\\workbench\\services\\extensions\\node\\extensionHostProcess.js:98:10766)\n\tat c:\\Users\\Arthur\\AppData\\Local\\Programs\\Microsoft VS Code\\resources\\app\\out\\vs\\workbench\\services\\extensions\\node\\extensionHostProcess.js:98:8663\n\tat c.fire (c:\\Users\\Arthur\\AppData\\Local\\Programs\\Microsoft VS Code\\resources\\app\\out\\vs\\workbench\\services\\extensions\\node\\extensionHostProcess.js:66:1712)\n\tat l.fire (c:\\Users\\Arthur\\AppData\\Local\\Programs\\Microsoft VS Code\\resources\\app\\out\\vs\\workbench\\services\\extensions\\node\\extensionHostProcess.js:74:15781)\n\tat c:\\Users\\Arthur\\AppData\\Local\\Programs\\Microsoft VS Code\\resources\\app\\out\\vs\\workbench\\services\\extensions\\node\\extensionHostProcess.js:113:30187\n\tat c.fire (c:\\Users\\Arthur\\AppData\\Local\\Programs\\Microsoft VS Code\\resources\\app\\out\\vs\\workbench\\services\\extensions\\node\\extensionHostProcess.js:66:1712)\n\tat l.fire (c:\\Users\\Arthur\\AppData\\Local\\Programs\\Microsoft VS Code\\resources\\app\\out\\vs\\workbench\\services\\extensions\\node\\extensionHostProcess.js:74:15781)\n\tat r._receiveMessage (c:\\Users\\Arthur\\AppData\\Local\\Programs\\Microsoft VS Code\\resources\\app\\out\\vs\\workbench\\services\\extensions\\node\\extensionHostProcess.js:74:21051)\n\tat c:\\Users\\Arthur\\AppData\\Local\\Programs\\Microsoft VS Code\\resources\\app\\out\\vs\\workbench\\services\\extensions\\node\\extensionHostProcess.js:74:17929\n\tat c.fire (c:\\Users\\Arthur\\AppData\\Local\\Programs\\Microsoft VS Code\\resources\\app\\out\\vs\\workbench\\services\\extensions\\node\\extensionHostProcess.js:66:1712)\n\tat v.acceptChunk (c:\\Users\\Arthur\\AppData\\Local\\Programs\\Microsoft VS Code\\resources\\app\\out\\vs\\workbench\\services\\extensions\\node\\extensionHostProcess.js:74:13142)\n\tat c:\\Users\\Arthur\\AppData\\Local\\Programs\\Microsoft VS Code\\resources\\app\\out\\vs\\workbench\\services\\extensions\\node\\extensionHostProcess.js:74:12490\n\tat Socket.w (c:\\Users\\Arthur\\AppData\\Local\\Programs\\Microsoft VS Code\\resources\\app\\out\\vs\\workbench\\services\\extensions\\node\\extensionHostProcess.js:113:13350)\n\tat Socket.emit (events.js:315:20)\n\tat addChunk (internal/streams/readable.js:309:12)\n\tat readableAddChunk (internal/streams/readable.js:284:9)\n\tat Socket.Readable.push (internal/streams/readable.js:223:10)\n\tat Pipe.onStreamRead (internal/stream_base_commons.js:188:23)"
      }
     },
     "metadata": {}
    }
   ],
   "metadata": {}
  },
  {
   "cell_type": "markdown",
   "source": [
    "b) Liste as idades das pessoas cadastradas (sem repetições)"
   ],
   "metadata": {}
  },
  {
   "cell_type": "code",
   "execution_count": 22,
   "source": [
    "SELECT DISTINCT Pessoa.Age FROM Pessoa"
   ],
   "outputs": [
    {
     "output_type": "display_data",
     "data": {
      "application/vnd.jupyter.widget-view+json": {
       "model_id": "5a0e86ac-0dbe-4bc9-b854-588b1bb98090",
       "version_major": 2,
       "version_minor": 0
      },
      "application/vnd.code.notebook.error": {
       "name": "Error",
       "message": "INVALID mime type: method. Must be in the format \"type/subtype[;optionalparameter]\"",
       "stack": "Error: INVALID mime type: method. Must be in the format \"type/subtype[;optionalparameter]\"\n\tat new Tt (c:\\Users\\Arthur\\AppData\\Local\\Programs\\Microsoft VS Code\\resources\\app\\out\\vs\\workbench\\services\\extensions\\node\\extensionHostProcess.js:87:55799)\n\tat Function.text (c:\\Users\\Arthur\\AppData\\Local\\Programs\\Microsoft VS Code\\resources\\app\\out\\vs\\workbench\\services\\extensions\\node\\extensionHostProcess.js:87:56450)\n\tat d (c:\\Users\\Arthur\\AppData\\Local\\Programs\\Microsoft VS Code\\resources\\app\\extensions\\ipynb\\dist\\ipynbMain.js:1:139047)\n\tat l (c:\\Users\\Arthur\\AppData\\Local\\Programs\\Microsoft VS Code\\resources\\app\\extensions\\ipynb\\dist\\ipynbMain.js:1:139713)\n\tat p (c:\\Users\\Arthur\\AppData\\Local\\Programs\\Microsoft VS Code\\resources\\app\\extensions\\ipynb\\dist\\ipynbMain.js:1:140218)\n\tat Array.map (<anonymous>)\n\tat c:\\Users\\Arthur\\AppData\\Local\\Programs\\Microsoft VS Code\\resources\\app\\extensions\\ipynb\\dist\\ipynbMain.js:1:141404\n\tat c:\\Users\\Arthur\\AppData\\Local\\Programs\\Microsoft VS Code\\resources\\app\\extensions\\ipynb\\dist\\ipynbMain.js:1:141646\n\tat c:\\Users\\Arthur\\AppData\\Local\\Programs\\Microsoft VS Code\\resources\\app\\extensions\\ipynb\\dist\\ipynbMain.js:1:141653\n\tat Array.map (<anonymous>)\n\tat e.jupyterNotebookModelToNotebookData (c:\\Users\\Arthur\\AppData\\Local\\Programs\\Microsoft VS Code\\resources\\app\\extensions\\ipynb\\dist\\ipynbMain.js:1:140962)\n\tat e.NotebookSerializer.deserializeNotebook (c:\\Users\\Arthur\\AppData\\Local\\Programs\\Microsoft VS Code\\resources\\app\\extensions\\ipynb\\dist\\ipynbMain.js:1:142865)\n\tat P.$dataToNotebook (c:\\Users\\Arthur\\AppData\\Local\\Programs\\Microsoft VS Code\\resources\\app\\out\\vs\\workbench\\services\\extensions\\node\\extensionHostProcess.js:94:214167)\n\tat i._doInvokeHandler (c:\\Users\\Arthur\\AppData\\Local\\Programs\\Microsoft VS Code\\resources\\app\\out\\vs\\workbench\\services\\extensions\\node\\extensionHostProcess.js:98:13543)\n\tat i._invokeHandler (c:\\Users\\Arthur\\AppData\\Local\\Programs\\Microsoft VS Code\\resources\\app\\out\\vs\\workbench\\services\\extensions\\node\\extensionHostProcess.js:98:13227)\n\tat i._receiveRequest (c:\\Users\\Arthur\\AppData\\Local\\Programs\\Microsoft VS Code\\resources\\app\\out\\vs\\workbench\\services\\extensions\\node\\extensionHostProcess.js:98:11838)\n\tat i._receiveOneMessage (c:\\Users\\Arthur\\AppData\\Local\\Programs\\Microsoft VS Code\\resources\\app\\out\\vs\\workbench\\services\\extensions\\node\\extensionHostProcess.js:98:10766)\n\tat c:\\Users\\Arthur\\AppData\\Local\\Programs\\Microsoft VS Code\\resources\\app\\out\\vs\\workbench\\services\\extensions\\node\\extensionHostProcess.js:98:8663\n\tat c.fire (c:\\Users\\Arthur\\AppData\\Local\\Programs\\Microsoft VS Code\\resources\\app\\out\\vs\\workbench\\services\\extensions\\node\\extensionHostProcess.js:66:1712)\n\tat l.fire (c:\\Users\\Arthur\\AppData\\Local\\Programs\\Microsoft VS Code\\resources\\app\\out\\vs\\workbench\\services\\extensions\\node\\extensionHostProcess.js:74:15781)\n\tat c:\\Users\\Arthur\\AppData\\Local\\Programs\\Microsoft VS Code\\resources\\app\\out\\vs\\workbench\\services\\extensions\\node\\extensionHostProcess.js:113:30187\n\tat c.fire (c:\\Users\\Arthur\\AppData\\Local\\Programs\\Microsoft VS Code\\resources\\app\\out\\vs\\workbench\\services\\extensions\\node\\extensionHostProcess.js:66:1712)\n\tat l.fire (c:\\Users\\Arthur\\AppData\\Local\\Programs\\Microsoft VS Code\\resources\\app\\out\\vs\\workbench\\services\\extensions\\node\\extensionHostProcess.js:74:15781)\n\tat r._receiveMessage (c:\\Users\\Arthur\\AppData\\Local\\Programs\\Microsoft VS Code\\resources\\app\\out\\vs\\workbench\\services\\extensions\\node\\extensionHostProcess.js:74:21051)\n\tat c:\\Users\\Arthur\\AppData\\Local\\Programs\\Microsoft VS Code\\resources\\app\\out\\vs\\workbench\\services\\extensions\\node\\extensionHostProcess.js:74:17929\n\tat c.fire (c:\\Users\\Arthur\\AppData\\Local\\Programs\\Microsoft VS Code\\resources\\app\\out\\vs\\workbench\\services\\extensions\\node\\extensionHostProcess.js:66:1712)\n\tat v.acceptChunk (c:\\Users\\Arthur\\AppData\\Local\\Programs\\Microsoft VS Code\\resources\\app\\out\\vs\\workbench\\services\\extensions\\node\\extensionHostProcess.js:74:13142)\n\tat c:\\Users\\Arthur\\AppData\\Local\\Programs\\Microsoft VS Code\\resources\\app\\out\\vs\\workbench\\services\\extensions\\node\\extensionHostProcess.js:74:12490\n\tat Socket.w (c:\\Users\\Arthur\\AppData\\Local\\Programs\\Microsoft VS Code\\resources\\app\\out\\vs\\workbench\\services\\extensions\\node\\extensionHostProcess.js:113:13350)\n\tat Socket.emit (events.js:315:20)\n\tat addChunk (internal/streams/readable.js:309:12)\n\tat readableAddChunk (internal/streams/readable.js:284:9)\n\tat Socket.Readable.push (internal/streams/readable.js:223:10)\n\tat Pipe.onStreamRead (internal/stream_base_commons.js:188:23)"
      }
     },
     "metadata": {}
    }
   ],
   "metadata": {}
  },
  {
   "cell_type": "markdown",
   "source": [
    "c) Liste código das pessoas, idade, código dos medicamentos que usaram e dias de uso"
   ],
   "metadata": {}
  },
  {
   "cell_type": "code",
   "execution_count": 27,
   "source": [
    "SELECT  Pessoa.Id, Pessoa.Age, Droga.Droga_Id, Uso.Days_of_use\n",
    "FROM Pessoa, Droga, Uso\n",
    "WHERE Pessoa.Id = Uso.Person_Id and Droga.Droga_Id = Uso.Droga_Id;"
   ],
   "outputs": [
    {
     "output_type": "display_data",
     "data": {
      "application/vnd.jupyter.widget-view+json": {
       "model_id": "e14b51ba-2fb9-4691-bb03-2d65a990bad7",
       "version_major": 2,
       "version_minor": 0
      },
      "application/vnd.code.notebook.error": {
       "name": "Error",
       "message": "INVALID mime type: method. Must be in the format \"type/subtype[;optionalparameter]\"",
       "stack": "Error: INVALID mime type: method. Must be in the format \"type/subtype[;optionalparameter]\"\n\tat new Tt (c:\\Users\\Arthur\\AppData\\Local\\Programs\\Microsoft VS Code\\resources\\app\\out\\vs\\workbench\\services\\extensions\\node\\extensionHostProcess.js:87:55799)\n\tat Function.text (c:\\Users\\Arthur\\AppData\\Local\\Programs\\Microsoft VS Code\\resources\\app\\out\\vs\\workbench\\services\\extensions\\node\\extensionHostProcess.js:87:56450)\n\tat d (c:\\Users\\Arthur\\AppData\\Local\\Programs\\Microsoft VS Code\\resources\\app\\extensions\\ipynb\\dist\\ipynbMain.js:1:139047)\n\tat l (c:\\Users\\Arthur\\AppData\\Local\\Programs\\Microsoft VS Code\\resources\\app\\extensions\\ipynb\\dist\\ipynbMain.js:1:139713)\n\tat p (c:\\Users\\Arthur\\AppData\\Local\\Programs\\Microsoft VS Code\\resources\\app\\extensions\\ipynb\\dist\\ipynbMain.js:1:140218)\n\tat Array.map (<anonymous>)\n\tat c:\\Users\\Arthur\\AppData\\Local\\Programs\\Microsoft VS Code\\resources\\app\\extensions\\ipynb\\dist\\ipynbMain.js:1:141404\n\tat c:\\Users\\Arthur\\AppData\\Local\\Programs\\Microsoft VS Code\\resources\\app\\extensions\\ipynb\\dist\\ipynbMain.js:1:141646\n\tat c:\\Users\\Arthur\\AppData\\Local\\Programs\\Microsoft VS Code\\resources\\app\\extensions\\ipynb\\dist\\ipynbMain.js:1:141653\n\tat Array.map (<anonymous>)\n\tat e.jupyterNotebookModelToNotebookData (c:\\Users\\Arthur\\AppData\\Local\\Programs\\Microsoft VS Code\\resources\\app\\extensions\\ipynb\\dist\\ipynbMain.js:1:140962)\n\tat e.NotebookSerializer.deserializeNotebook (c:\\Users\\Arthur\\AppData\\Local\\Programs\\Microsoft VS Code\\resources\\app\\extensions\\ipynb\\dist\\ipynbMain.js:1:142865)\n\tat P.$dataToNotebook (c:\\Users\\Arthur\\AppData\\Local\\Programs\\Microsoft VS Code\\resources\\app\\out\\vs\\workbench\\services\\extensions\\node\\extensionHostProcess.js:94:214167)\n\tat i._doInvokeHandler (c:\\Users\\Arthur\\AppData\\Local\\Programs\\Microsoft VS Code\\resources\\app\\out\\vs\\workbench\\services\\extensions\\node\\extensionHostProcess.js:98:13543)\n\tat i._invokeHandler (c:\\Users\\Arthur\\AppData\\Local\\Programs\\Microsoft VS Code\\resources\\app\\out\\vs\\workbench\\services\\extensions\\node\\extensionHostProcess.js:98:13227)\n\tat i._receiveRequest (c:\\Users\\Arthur\\AppData\\Local\\Programs\\Microsoft VS Code\\resources\\app\\out\\vs\\workbench\\services\\extensions\\node\\extensionHostProcess.js:98:11838)\n\tat i._receiveOneMessage (c:\\Users\\Arthur\\AppData\\Local\\Programs\\Microsoft VS Code\\resources\\app\\out\\vs\\workbench\\services\\extensions\\node\\extensionHostProcess.js:98:10766)\n\tat c:\\Users\\Arthur\\AppData\\Local\\Programs\\Microsoft VS Code\\resources\\app\\out\\vs\\workbench\\services\\extensions\\node\\extensionHostProcess.js:98:8663\n\tat c.fire (c:\\Users\\Arthur\\AppData\\Local\\Programs\\Microsoft VS Code\\resources\\app\\out\\vs\\workbench\\services\\extensions\\node\\extensionHostProcess.js:66:1712)\n\tat l.fire (c:\\Users\\Arthur\\AppData\\Local\\Programs\\Microsoft VS Code\\resources\\app\\out\\vs\\workbench\\services\\extensions\\node\\extensionHostProcess.js:74:15781)\n\tat c:\\Users\\Arthur\\AppData\\Local\\Programs\\Microsoft VS Code\\resources\\app\\out\\vs\\workbench\\services\\extensions\\node\\extensionHostProcess.js:113:30187\n\tat c.fire (c:\\Users\\Arthur\\AppData\\Local\\Programs\\Microsoft VS Code\\resources\\app\\out\\vs\\workbench\\services\\extensions\\node\\extensionHostProcess.js:66:1712)\n\tat l.fire (c:\\Users\\Arthur\\AppData\\Local\\Programs\\Microsoft VS Code\\resources\\app\\out\\vs\\workbench\\services\\extensions\\node\\extensionHostProcess.js:74:15781)\n\tat r._receiveMessage (c:\\Users\\Arthur\\AppData\\Local\\Programs\\Microsoft VS Code\\resources\\app\\out\\vs\\workbench\\services\\extensions\\node\\extensionHostProcess.js:74:21051)\n\tat c:\\Users\\Arthur\\AppData\\Local\\Programs\\Microsoft VS Code\\resources\\app\\out\\vs\\workbench\\services\\extensions\\node\\extensionHostProcess.js:74:17929\n\tat c.fire (c:\\Users\\Arthur\\AppData\\Local\\Programs\\Microsoft VS Code\\resources\\app\\out\\vs\\workbench\\services\\extensions\\node\\extensionHostProcess.js:66:1712)\n\tat v.acceptChunk (c:\\Users\\Arthur\\AppData\\Local\\Programs\\Microsoft VS Code\\resources\\app\\out\\vs\\workbench\\services\\extensions\\node\\extensionHostProcess.js:74:13142)\n\tat c:\\Users\\Arthur\\AppData\\Local\\Programs\\Microsoft VS Code\\resources\\app\\out\\vs\\workbench\\services\\extensions\\node\\extensionHostProcess.js:74:12490\n\tat Socket.w (c:\\Users\\Arthur\\AppData\\Local\\Programs\\Microsoft VS Code\\resources\\app\\out\\vs\\workbench\\services\\extensions\\node\\extensionHostProcess.js:113:13350)\n\tat Socket.emit (events.js:315:20)\n\tat addChunk (internal/streams/readable.js:309:12)\n\tat readableAddChunk (internal/streams/readable.js:284:9)\n\tat Socket.Readable.push (internal/streams/readable.js:223:10)\n\tat Pipe.onStreamRead (internal/stream_base_commons.js:188:23)"
      }
     },
     "metadata": {}
    }
   ],
   "metadata": {}
  },
  {
   "cell_type": "markdown",
   "source": [
    "d) Liste código das Pessoas, idade, nome dos medicamentos que usaram e quantos dias de uso"
   ],
   "metadata": {}
  },
  {
   "cell_type": "code",
   "execution_count": 66,
   "source": [
    "SELECT DISTINCT  Pessoa.Id, Pessoa.Age, Droga.nomeDroga, Uso.Days_of_use\n",
    "FROM Pessoa, Droga, Uso\n",
    "WHERE Pessoa.Id = Uso.Person_Id and Droga.Droga_Id = Uso.Droga_Id;\n",
    "\n"
   ],
   "outputs": [
    {
     "output_type": "display_data",
     "data": {
      "application/vnd.jupyter.widget-view+json": {
       "model_id": "6902b7f4-5945-4844-abb5-2ea7bd47c24f",
       "version_major": 2,
       "version_minor": 0
      },
      "application/vnd.code.notebook.error": {
       "name": "Error",
       "message": "INVALID mime type: method. Must be in the format \"type/subtype[;optionalparameter]\"",
       "stack": "Error: INVALID mime type: method. Must be in the format \"type/subtype[;optionalparameter]\"\n\tat new Tt (c:\\Users\\Arthur\\AppData\\Local\\Programs\\Microsoft VS Code\\resources\\app\\out\\vs\\workbench\\services\\extensions\\node\\extensionHostProcess.js:87:55799)\n\tat Function.text (c:\\Users\\Arthur\\AppData\\Local\\Programs\\Microsoft VS Code\\resources\\app\\out\\vs\\workbench\\services\\extensions\\node\\extensionHostProcess.js:87:56450)\n\tat d (c:\\Users\\Arthur\\AppData\\Local\\Programs\\Microsoft VS Code\\resources\\app\\extensions\\ipynb\\dist\\ipynbMain.js:1:139047)\n\tat l (c:\\Users\\Arthur\\AppData\\Local\\Programs\\Microsoft VS Code\\resources\\app\\extensions\\ipynb\\dist\\ipynbMain.js:1:139713)\n\tat p (c:\\Users\\Arthur\\AppData\\Local\\Programs\\Microsoft VS Code\\resources\\app\\extensions\\ipynb\\dist\\ipynbMain.js:1:140218)\n\tat Array.map (<anonymous>)\n\tat c:\\Users\\Arthur\\AppData\\Local\\Programs\\Microsoft VS Code\\resources\\app\\extensions\\ipynb\\dist\\ipynbMain.js:1:141404\n\tat c:\\Users\\Arthur\\AppData\\Local\\Programs\\Microsoft VS Code\\resources\\app\\extensions\\ipynb\\dist\\ipynbMain.js:1:141646\n\tat c:\\Users\\Arthur\\AppData\\Local\\Programs\\Microsoft VS Code\\resources\\app\\extensions\\ipynb\\dist\\ipynbMain.js:1:141653\n\tat Array.map (<anonymous>)\n\tat e.jupyterNotebookModelToNotebookData (c:\\Users\\Arthur\\AppData\\Local\\Programs\\Microsoft VS Code\\resources\\app\\extensions\\ipynb\\dist\\ipynbMain.js:1:140962)\n\tat e.NotebookSerializer.deserializeNotebook (c:\\Users\\Arthur\\AppData\\Local\\Programs\\Microsoft VS Code\\resources\\app\\extensions\\ipynb\\dist\\ipynbMain.js:1:142865)\n\tat P.$dataToNotebook (c:\\Users\\Arthur\\AppData\\Local\\Programs\\Microsoft VS Code\\resources\\app\\out\\vs\\workbench\\services\\extensions\\node\\extensionHostProcess.js:94:214167)\n\tat i._doInvokeHandler (c:\\Users\\Arthur\\AppData\\Local\\Programs\\Microsoft VS Code\\resources\\app\\out\\vs\\workbench\\services\\extensions\\node\\extensionHostProcess.js:98:13543)\n\tat i._invokeHandler (c:\\Users\\Arthur\\AppData\\Local\\Programs\\Microsoft VS Code\\resources\\app\\out\\vs\\workbench\\services\\extensions\\node\\extensionHostProcess.js:98:13227)\n\tat i._receiveRequest (c:\\Users\\Arthur\\AppData\\Local\\Programs\\Microsoft VS Code\\resources\\app\\out\\vs\\workbench\\services\\extensions\\node\\extensionHostProcess.js:98:11838)\n\tat i._receiveOneMessage (c:\\Users\\Arthur\\AppData\\Local\\Programs\\Microsoft VS Code\\resources\\app\\out\\vs\\workbench\\services\\extensions\\node\\extensionHostProcess.js:98:10766)\n\tat c:\\Users\\Arthur\\AppData\\Local\\Programs\\Microsoft VS Code\\resources\\app\\out\\vs\\workbench\\services\\extensions\\node\\extensionHostProcess.js:98:8663\n\tat c.fire (c:\\Users\\Arthur\\AppData\\Local\\Programs\\Microsoft VS Code\\resources\\app\\out\\vs\\workbench\\services\\extensions\\node\\extensionHostProcess.js:66:1712)\n\tat l.fire (c:\\Users\\Arthur\\AppData\\Local\\Programs\\Microsoft VS Code\\resources\\app\\out\\vs\\workbench\\services\\extensions\\node\\extensionHostProcess.js:74:15781)\n\tat c:\\Users\\Arthur\\AppData\\Local\\Programs\\Microsoft VS Code\\resources\\app\\out\\vs\\workbench\\services\\extensions\\node\\extensionHostProcess.js:113:30187\n\tat c.fire (c:\\Users\\Arthur\\AppData\\Local\\Programs\\Microsoft VS Code\\resources\\app\\out\\vs\\workbench\\services\\extensions\\node\\extensionHostProcess.js:66:1712)\n\tat l.fire (c:\\Users\\Arthur\\AppData\\Local\\Programs\\Microsoft VS Code\\resources\\app\\out\\vs\\workbench\\services\\extensions\\node\\extensionHostProcess.js:74:15781)\n\tat r._receiveMessage (c:\\Users\\Arthur\\AppData\\Local\\Programs\\Microsoft VS Code\\resources\\app\\out\\vs\\workbench\\services\\extensions\\node\\extensionHostProcess.js:74:21051)\n\tat c:\\Users\\Arthur\\AppData\\Local\\Programs\\Microsoft VS Code\\resources\\app\\out\\vs\\workbench\\services\\extensions\\node\\extensionHostProcess.js:74:17929\n\tat c.fire (c:\\Users\\Arthur\\AppData\\Local\\Programs\\Microsoft VS Code\\resources\\app\\out\\vs\\workbench\\services\\extensions\\node\\extensionHostProcess.js:66:1712)\n\tat v.acceptChunk (c:\\Users\\Arthur\\AppData\\Local\\Programs\\Microsoft VS Code\\resources\\app\\out\\vs\\workbench\\services\\extensions\\node\\extensionHostProcess.js:74:13142)\n\tat c:\\Users\\Arthur\\AppData\\Local\\Programs\\Microsoft VS Code\\resources\\app\\out\\vs\\workbench\\services\\extensions\\node\\extensionHostProcess.js:74:12490\n\tat Socket.w (c:\\Users\\Arthur\\AppData\\Local\\Programs\\Microsoft VS Code\\resources\\app\\out\\vs\\workbench\\services\\extensions\\node\\extensionHostProcess.js:113:13350)\n\tat Socket.emit (events.js:315:20)\n\tat addChunk (internal/streams/readable.js:309:12)\n\tat readableAddChunk (internal/streams/readable.js:284:9)\n\tat Socket.Readable.push (internal/streams/readable.js:223:10)\n\tat Pipe.onStreamRead (internal/stream_base_commons.js:188:23)"
      }
     },
     "metadata": {}
    }
   ],
   "metadata": {}
  },
  {
   "cell_type": "markdown",
   "source": [
    "e) Liste nome dos medicamentos que foram usados por pessoas (sem repetições)"
   ],
   "metadata": {}
  },
  {
   "cell_type": "code",
   "execution_count": 67,
   "source": [
    "SELECT DISTINCT Droga.nomeDroga\n",
    "FROM Pessoa, Droga, Uso\n",
    "WHERE Pessoa.Id = Uso.Person_Id and Droga.Droga_Id = Uso.Droga_Id;"
   ],
   "outputs": [
    {
     "output_type": "display_data",
     "data": {
      "application/vnd.jupyter.widget-view+json": {
       "model_id": "381450f9-f763-46c7-a19d-2ea7d8673cd9",
       "version_major": 2,
       "version_minor": 0
      },
      "application/vnd.code.notebook.error": {
       "name": "Error",
       "message": "INVALID mime type: method. Must be in the format \"type/subtype[;optionalparameter]\"",
       "stack": "Error: INVALID mime type: method. Must be in the format \"type/subtype[;optionalparameter]\"\n\tat new Tt (c:\\Users\\Arthur\\AppData\\Local\\Programs\\Microsoft VS Code\\resources\\app\\out\\vs\\workbench\\services\\extensions\\node\\extensionHostProcess.js:87:55799)\n\tat Function.text (c:\\Users\\Arthur\\AppData\\Local\\Programs\\Microsoft VS Code\\resources\\app\\out\\vs\\workbench\\services\\extensions\\node\\extensionHostProcess.js:87:56450)\n\tat d (c:\\Users\\Arthur\\AppData\\Local\\Programs\\Microsoft VS Code\\resources\\app\\extensions\\ipynb\\dist\\ipynbMain.js:1:139047)\n\tat l (c:\\Users\\Arthur\\AppData\\Local\\Programs\\Microsoft VS Code\\resources\\app\\extensions\\ipynb\\dist\\ipynbMain.js:1:139713)\n\tat p (c:\\Users\\Arthur\\AppData\\Local\\Programs\\Microsoft VS Code\\resources\\app\\extensions\\ipynb\\dist\\ipynbMain.js:1:140218)\n\tat Array.map (<anonymous>)\n\tat c:\\Users\\Arthur\\AppData\\Local\\Programs\\Microsoft VS Code\\resources\\app\\extensions\\ipynb\\dist\\ipynbMain.js:1:141404\n\tat c:\\Users\\Arthur\\AppData\\Local\\Programs\\Microsoft VS Code\\resources\\app\\extensions\\ipynb\\dist\\ipynbMain.js:1:141646\n\tat c:\\Users\\Arthur\\AppData\\Local\\Programs\\Microsoft VS Code\\resources\\app\\extensions\\ipynb\\dist\\ipynbMain.js:1:141653\n\tat Array.map (<anonymous>)\n\tat e.jupyterNotebookModelToNotebookData (c:\\Users\\Arthur\\AppData\\Local\\Programs\\Microsoft VS Code\\resources\\app\\extensions\\ipynb\\dist\\ipynbMain.js:1:140962)\n\tat e.NotebookSerializer.deserializeNotebook (c:\\Users\\Arthur\\AppData\\Local\\Programs\\Microsoft VS Code\\resources\\app\\extensions\\ipynb\\dist\\ipynbMain.js:1:142865)\n\tat P.$dataToNotebook (c:\\Users\\Arthur\\AppData\\Local\\Programs\\Microsoft VS Code\\resources\\app\\out\\vs\\workbench\\services\\extensions\\node\\extensionHostProcess.js:94:214167)\n\tat i._doInvokeHandler (c:\\Users\\Arthur\\AppData\\Local\\Programs\\Microsoft VS Code\\resources\\app\\out\\vs\\workbench\\services\\extensions\\node\\extensionHostProcess.js:98:13543)\n\tat i._invokeHandler (c:\\Users\\Arthur\\AppData\\Local\\Programs\\Microsoft VS Code\\resources\\app\\out\\vs\\workbench\\services\\extensions\\node\\extensionHostProcess.js:98:13227)\n\tat i._receiveRequest (c:\\Users\\Arthur\\AppData\\Local\\Programs\\Microsoft VS Code\\resources\\app\\out\\vs\\workbench\\services\\extensions\\node\\extensionHostProcess.js:98:11838)\n\tat i._receiveOneMessage (c:\\Users\\Arthur\\AppData\\Local\\Programs\\Microsoft VS Code\\resources\\app\\out\\vs\\workbench\\services\\extensions\\node\\extensionHostProcess.js:98:10766)\n\tat c:\\Users\\Arthur\\AppData\\Local\\Programs\\Microsoft VS Code\\resources\\app\\out\\vs\\workbench\\services\\extensions\\node\\extensionHostProcess.js:98:8663\n\tat c.fire (c:\\Users\\Arthur\\AppData\\Local\\Programs\\Microsoft VS Code\\resources\\app\\out\\vs\\workbench\\services\\extensions\\node\\extensionHostProcess.js:66:1712)\n\tat l.fire (c:\\Users\\Arthur\\AppData\\Local\\Programs\\Microsoft VS Code\\resources\\app\\out\\vs\\workbench\\services\\extensions\\node\\extensionHostProcess.js:74:15781)\n\tat c:\\Users\\Arthur\\AppData\\Local\\Programs\\Microsoft VS Code\\resources\\app\\out\\vs\\workbench\\services\\extensions\\node\\extensionHostProcess.js:113:30187\n\tat c.fire (c:\\Users\\Arthur\\AppData\\Local\\Programs\\Microsoft VS Code\\resources\\app\\out\\vs\\workbench\\services\\extensions\\node\\extensionHostProcess.js:66:1712)\n\tat l.fire (c:\\Users\\Arthur\\AppData\\Local\\Programs\\Microsoft VS Code\\resources\\app\\out\\vs\\workbench\\services\\extensions\\node\\extensionHostProcess.js:74:15781)\n\tat r._receiveMessage (c:\\Users\\Arthur\\AppData\\Local\\Programs\\Microsoft VS Code\\resources\\app\\out\\vs\\workbench\\services\\extensions\\node\\extensionHostProcess.js:74:21051)\n\tat c:\\Users\\Arthur\\AppData\\Local\\Programs\\Microsoft VS Code\\resources\\app\\out\\vs\\workbench\\services\\extensions\\node\\extensionHostProcess.js:74:17929\n\tat c.fire (c:\\Users\\Arthur\\AppData\\Local\\Programs\\Microsoft VS Code\\resources\\app\\out\\vs\\workbench\\services\\extensions\\node\\extensionHostProcess.js:66:1712)\n\tat v.acceptChunk (c:\\Users\\Arthur\\AppData\\Local\\Programs\\Microsoft VS Code\\resources\\app\\out\\vs\\workbench\\services\\extensions\\node\\extensionHostProcess.js:74:13142)\n\tat c:\\Users\\Arthur\\AppData\\Local\\Programs\\Microsoft VS Code\\resources\\app\\out\\vs\\workbench\\services\\extensions\\node\\extensionHostProcess.js:74:12490\n\tat Socket.w (c:\\Users\\Arthur\\AppData\\Local\\Programs\\Microsoft VS Code\\resources\\app\\out\\vs\\workbench\\services\\extensions\\node\\extensionHostProcess.js:113:13350)\n\tat Socket.emit (events.js:315:20)\n\tat addChunk (internal/streams/readable.js:309:12)\n\tat readableAddChunk (internal/streams/readable.js:284:9)\n\tat Socket.Readable.push (internal/streams/readable.js:223:10)\n\tat Pipe.onStreamRead (internal/stream_base_commons.js:188:23)"
      }
     },
     "metadata": {}
    }
   ],
   "metadata": {}
  },
  {
   "cell_type": "markdown",
   "source": [
    "f) Liste nome dos medicamentos usados por mais de 2.000 dias (sem repetições)"
   ],
   "metadata": {}
  },
  {
   "cell_type": "code",
   "execution_count": 68,
   "source": [
    "SELECT  DISTINCT Droga.nomeDroga\n",
    "FROM Pessoa, Droga, Uso\n",
    "WHERE Pessoa.Id = Uso.Person_Id and Droga.Droga_Id = Uso.Droga_Id and Uso.Days_of_use > 2000;"
   ],
   "outputs": [
    {
     "output_type": "display_data",
     "data": {
      "application/vnd.jupyter.widget-view+json": {
       "model_id": "223d3250-c1ba-4e29-bda1-741f39f6dffc",
       "version_major": 2,
       "version_minor": 0
      },
      "application/vnd.code.notebook.error": {
       "name": "Error",
       "message": "INVALID mime type: method. Must be in the format \"type/subtype[;optionalparameter]\"",
       "stack": "Error: INVALID mime type: method. Must be in the format \"type/subtype[;optionalparameter]\"\n\tat new Tt (c:\\Users\\Arthur\\AppData\\Local\\Programs\\Microsoft VS Code\\resources\\app\\out\\vs\\workbench\\services\\extensions\\node\\extensionHostProcess.js:87:55799)\n\tat Function.text (c:\\Users\\Arthur\\AppData\\Local\\Programs\\Microsoft VS Code\\resources\\app\\out\\vs\\workbench\\services\\extensions\\node\\extensionHostProcess.js:87:56450)\n\tat d (c:\\Users\\Arthur\\AppData\\Local\\Programs\\Microsoft VS Code\\resources\\app\\extensions\\ipynb\\dist\\ipynbMain.js:1:139047)\n\tat l (c:\\Users\\Arthur\\AppData\\Local\\Programs\\Microsoft VS Code\\resources\\app\\extensions\\ipynb\\dist\\ipynbMain.js:1:139713)\n\tat p (c:\\Users\\Arthur\\AppData\\Local\\Programs\\Microsoft VS Code\\resources\\app\\extensions\\ipynb\\dist\\ipynbMain.js:1:140218)\n\tat Array.map (<anonymous>)\n\tat c:\\Users\\Arthur\\AppData\\Local\\Programs\\Microsoft VS Code\\resources\\app\\extensions\\ipynb\\dist\\ipynbMain.js:1:141404\n\tat c:\\Users\\Arthur\\AppData\\Local\\Programs\\Microsoft VS Code\\resources\\app\\extensions\\ipynb\\dist\\ipynbMain.js:1:141646\n\tat c:\\Users\\Arthur\\AppData\\Local\\Programs\\Microsoft VS Code\\resources\\app\\extensions\\ipynb\\dist\\ipynbMain.js:1:141653\n\tat Array.map (<anonymous>)\n\tat e.jupyterNotebookModelToNotebookData (c:\\Users\\Arthur\\AppData\\Local\\Programs\\Microsoft VS Code\\resources\\app\\extensions\\ipynb\\dist\\ipynbMain.js:1:140962)\n\tat e.NotebookSerializer.deserializeNotebook (c:\\Users\\Arthur\\AppData\\Local\\Programs\\Microsoft VS Code\\resources\\app\\extensions\\ipynb\\dist\\ipynbMain.js:1:142865)\n\tat P.$dataToNotebook (c:\\Users\\Arthur\\AppData\\Local\\Programs\\Microsoft VS Code\\resources\\app\\out\\vs\\workbench\\services\\extensions\\node\\extensionHostProcess.js:94:214167)\n\tat i._doInvokeHandler (c:\\Users\\Arthur\\AppData\\Local\\Programs\\Microsoft VS Code\\resources\\app\\out\\vs\\workbench\\services\\extensions\\node\\extensionHostProcess.js:98:13543)\n\tat i._invokeHandler (c:\\Users\\Arthur\\AppData\\Local\\Programs\\Microsoft VS Code\\resources\\app\\out\\vs\\workbench\\services\\extensions\\node\\extensionHostProcess.js:98:13227)\n\tat i._receiveRequest (c:\\Users\\Arthur\\AppData\\Local\\Programs\\Microsoft VS Code\\resources\\app\\out\\vs\\workbench\\services\\extensions\\node\\extensionHostProcess.js:98:11838)\n\tat i._receiveOneMessage (c:\\Users\\Arthur\\AppData\\Local\\Programs\\Microsoft VS Code\\resources\\app\\out\\vs\\workbench\\services\\extensions\\node\\extensionHostProcess.js:98:10766)\n\tat c:\\Users\\Arthur\\AppData\\Local\\Programs\\Microsoft VS Code\\resources\\app\\out\\vs\\workbench\\services\\extensions\\node\\extensionHostProcess.js:98:8663\n\tat c.fire (c:\\Users\\Arthur\\AppData\\Local\\Programs\\Microsoft VS Code\\resources\\app\\out\\vs\\workbench\\services\\extensions\\node\\extensionHostProcess.js:66:1712)\n\tat l.fire (c:\\Users\\Arthur\\AppData\\Local\\Programs\\Microsoft VS Code\\resources\\app\\out\\vs\\workbench\\services\\extensions\\node\\extensionHostProcess.js:74:15781)\n\tat c:\\Users\\Arthur\\AppData\\Local\\Programs\\Microsoft VS Code\\resources\\app\\out\\vs\\workbench\\services\\extensions\\node\\extensionHostProcess.js:113:30187\n\tat c.fire (c:\\Users\\Arthur\\AppData\\Local\\Programs\\Microsoft VS Code\\resources\\app\\out\\vs\\workbench\\services\\extensions\\node\\extensionHostProcess.js:66:1712)\n\tat l.fire (c:\\Users\\Arthur\\AppData\\Local\\Programs\\Microsoft VS Code\\resources\\app\\out\\vs\\workbench\\services\\extensions\\node\\extensionHostProcess.js:74:15781)\n\tat r._receiveMessage (c:\\Users\\Arthur\\AppData\\Local\\Programs\\Microsoft VS Code\\resources\\app\\out\\vs\\workbench\\services\\extensions\\node\\extensionHostProcess.js:74:21051)\n\tat c:\\Users\\Arthur\\AppData\\Local\\Programs\\Microsoft VS Code\\resources\\app\\out\\vs\\workbench\\services\\extensions\\node\\extensionHostProcess.js:74:17929\n\tat c.fire (c:\\Users\\Arthur\\AppData\\Local\\Programs\\Microsoft VS Code\\resources\\app\\out\\vs\\workbench\\services\\extensions\\node\\extensionHostProcess.js:66:1712)\n\tat v.acceptChunk (c:\\Users\\Arthur\\AppData\\Local\\Programs\\Microsoft VS Code\\resources\\app\\out\\vs\\workbench\\services\\extensions\\node\\extensionHostProcess.js:74:13142)\n\tat c:\\Users\\Arthur\\AppData\\Local\\Programs\\Microsoft VS Code\\resources\\app\\out\\vs\\workbench\\services\\extensions\\node\\extensionHostProcess.js:74:12490\n\tat Socket.w (c:\\Users\\Arthur\\AppData\\Local\\Programs\\Microsoft VS Code\\resources\\app\\out\\vs\\workbench\\services\\extensions\\node\\extensionHostProcess.js:113:13350)\n\tat Socket.emit (events.js:315:20)\n\tat addChunk (internal/streams/readable.js:309:12)\n\tat readableAddChunk (internal/streams/readable.js:284:9)\n\tat Socket.Readable.push (internal/streams/readable.js:223:10)\n\tat Pipe.onStreamRead (internal/stream_base_commons.js:188:23)"
      }
     },
     "metadata": {}
    }
   ],
   "metadata": {}
  }
 ],
 "metadata": {
  "kernelspec": {
   "name": "python3",
   "display_name": "Python 3.8.10 64-bit"
  },
  "language_info": {
   "codemirror_mode": "sql",
   "file_extension": ".sql",
   "mimetype": "",
   "name": "python",
   "nbconverter_exporter": "",
   "version": "3.8.10"
  },
  "toc": {
   "base_numbering": 1,
   "nav_menu": {},
   "number_sections": false,
   "sideBar": false,
   "skip_h1_title": false,
   "title_cell": "Table of Contents",
   "title_sidebar": "Contents",
   "toc_cell": false,
   "toc_position": {},
   "toc_section_display": false,
   "toc_window_display": false
  },
  "interpreter": {
   "hash": "916dbcbb3f70747c44a77c7bcd40155683ae19c65e1c03b4aa3499c5328201f1"
  }
 },
 "nbformat": 4,
 "nbformat_minor": 2
}