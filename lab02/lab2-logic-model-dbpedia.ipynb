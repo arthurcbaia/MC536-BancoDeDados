{
 "cells": [
  {
   "cell_type": "markdown",
   "source": [
    "# Laboratório 2"
   ],
   "metadata": {}
  },
  {
   "cell_type": "markdown",
   "source": [
    "## Tarefa 1\n",
    "\n",
    "### Carregue o nó de Tenda dos Milagres (da versão em inglês Tent of Miracles) em Python e mostre o conteúdo JSON."
   ],
   "metadata": {}
  },
  {
   "cell_type": "code",
   "execution_count": 72,
   "source": [
    "import requests\n",
    "import json"
   ],
   "outputs": [],
   "metadata": {}
  },
  {
   "cell_type": "code",
   "execution_count": 73,
   "source": [
    "\n",
    "url = 'https://dbpedia.org/data/Tent_of_Miracles_(novel).jsod'\n",
    "req = requests.get(url)\n",
    "req_json = req.json()\n",
    "req_json\n",
    "\n"
   ],
   "outputs": [
    {
     "output_type": "execute_result",
     "data": {
      "text/plain": [
       "{'d': {'results': [{'__metadata': {'uri': 'http://dbpedia.org/resource/Tent_of_Miracles_(novel)'},\n",
       "    'http://www.w3.org/2000/01/rdf-schema#label': 'Tent of Miracles (novel)',\n",
       "    'http://dbpedia.org/ontology/wikiPageWikiLink': {'__deferred': {'uri': 'http://dbpedia.org/resource/French_New_Wave'}},\n",
       "    'http://purl.org/dc/terms/subject': {'__deferred': {'uri': 'http://dbpedia.org/resource/Category:Modernist_novels'}},\n",
       "    'http://www.w3.org/1999/02/22-rdf-syntax-ns#type': {'__deferred': {'uri': 'http://dbpedia.org/ontology/WrittenWork'}},\n",
       "    'http://dbpedia.org/property/wikiPageUsesTemplate': {'__deferred': {'uri': 'http://dbpedia.org/resource/Template:According_to_whom'}},\n",
       "    'http://www.w3.org/2000/01/rdf-schema#comment': 'Tent of Miracles (Portuguese: Tenda dos Milagres) is a Brazilian Modernist novel. It was written by Jorge Amado in 1967 and published the following year. It was later adapted to a 1977 Cinema Novo (Nouvelle Vague) film by director/screenplay writer Nelson Pereira dos Santos.',\n",
       "    'http://dbpedia.org/ontology/abstract': 'La bottega dei miracoli è un romanzo di Jorge Amado pubblicato nel 1960. Come altri romanzi dell&#39;autore (ad esempio Tieta d&#39;Agreste e Teresa Batista) è un testo composito, con un intreccio zigzagante fra analessi e prolessi, con mutamenti di voci narranti ed inserti di materiale eterogeneo.È possibile che l&#39;evento scatenante del racconto (la visita del famoso scienziato) sia stato ispirato dall&#39;esperienza vissuta; in quello stesso 1960, infatti, Jean Paul Sartre e Simone De Beauvoir visitarono il Brasile su invito dello stesso Amado: la visita divenne un evento mediatico, celebrato in numerose manifestazioni istituzionali.',\n",
       "    'http://dbpedia.org/property/pubDate': '1969',\n",
       "    'http://dbpedia.org/property/country': {'__deferred': {'uri': 'http://dbpedia.org/resource/Brazil'}},\n",
       "    'http://www.w3.org/2002/07/owl#sameAs': {'__deferred': {'uri': 'http://rdf.freebase.com/ns/m.02xrs4'}},\n",
       "    'http://dbpedia.org/ontology/wikiPageRevisionID': '974212123',\n",
       "    'http://dbpedia.org/property/author': {'__deferred': {'uri': 'http://dbpedia.org/resource/Jorge_Amado'}},\n",
       "    'http://dbpedia.org/ontology/author': {'__deferred': {'uri': 'http://dbpedia.org/resource/Jorge_Amado'}},\n",
       "    'http://xmlns.com/foaf/0.1/name': 'Tenda dos Milagres',\n",
       "    'http://dbpedia.org/property/englishPubDate': '1971',\n",
       "    'http://dbpedia.org/ontology/country': {'__deferred': {'uri': 'http://dbpedia.org/resource/Brazil'}},\n",
       "    'http://dbpedia.org/property/name': 'Tent of Miracles',\n",
       "    'http://purl.org/linguistics/gold/hypernym': {'__deferred': {'uri': 'http://dbpedia.org/resource/Novel'}},\n",
       "    'http://dbpedia.org/property/titleOrig': 'Tenda dos Milagres',\n",
       "    'http://dbpedia.org/ontology/publisher': {'__deferred': {'uri': 'http://dbpedia.org/resource/Brazil'}},\n",
       "    'http://dbpedia.org/ontology/language': {'__deferred': {'uri': 'http://dbpedia.org/resource/Portuguese_language'}},\n",
       "    'http://www.w3.org/ns/prov#wasDerivedFrom': {'__deferred': {'uri': 'http://en.wikipedia.org/wiki/Tent_of_Miracles_(novel)?oldid=974212123&ns=0'}},\n",
       "    'http://dbpedia.org/ontology/wikiPageLength': '5253',\n",
       "    'http://purl.org/dc/elements/1.1/publisher': 'Martins, Sao Paulo, Brazil',\n",
       "    'http://dbpedia.org/property/language': {'__deferred': {'uri': 'http://dbpedia.org/resource/Portuguese_language'}},\n",
       "    'http://dbpedia.org/ontology/wikiPageID': '623351',\n",
       "    'http://dbpedia.org/property/publisher': 'Martins, Sao Paulo, Brazil',\n",
       "    'http://dbpedia.org/property/caption': 'First edition',\n",
       "    'http://xmlns.com/foaf/0.1/isPrimaryTopicOf': {'__deferred': {'uri': 'http://en.wikipedia.org/wiki/Tent_of_Miracles_(novel)'}}}],\n",
       "  '__count': '1'}}"
      ]
     },
     "metadata": {},
     "execution_count": 73
    }
   ],
   "metadata": {}
  },
  {
   "cell_type": "markdown",
   "source": [
    "## Tarefa 2\n",
    "### Recupere via Python e mostre o autor de Tenda dos Milagres?"
   ],
   "metadata": {}
  },
  {
   "cell_type": "code",
   "execution_count": 74,
   "source": [
    "path = (req_json['d']['results'][0]['http://dbpedia.org/property/author']['__deferred']['uri'])\n",
    "a = path[-11:].split('_')\n",
    "' '.join(a)\n",
    "\n"
   ],
   "outputs": [
    {
     "output_type": "execute_result",
     "data": {
      "text/plain": [
       "'Jorge Amado'"
      ]
     },
     "metadata": {},
     "execution_count": 74
    }
   ],
   "metadata": {}
  },
  {
   "cell_type": "markdown",
   "source": [
    "## Tarefa 3\n",
    "### Quais os termos usados para Aspirina (consulta JSON/MeSH em Python)?"
   ],
   "metadata": {}
  },
  {
   "cell_type": "code",
   "execution_count": 75,
   "source": [
    "def mesh_request(code):\n",
    "    url = f\"https://id.nlm.nih.gov/mesh/lookup/details?descriptor={code}\"\n",
    "    url_req = requests.get(url)\n",
    "    req_json = url_req.json()\n",
    "    return req_json\n",
    "\n",
    "\n",
    "json_req = mesh_request('D001241')\n",
    "aspirin_names = [\n",
    "    term['label'] for term in json_req['terms']\n",
    "\n",
    "]\n",
    "aspirin_names"
   ],
   "outputs": [
    {
     "output_type": "execute_result",
     "data": {
      "text/plain": [
       "['Aspirin',\n",
       " '2-(Acetyloxy)benzoic Acid',\n",
       " 'Acetylsalicylic Acid',\n",
       " 'Acetysal',\n",
       " 'Acylpyrin',\n",
       " 'Aloxiprimum',\n",
       " 'Colfarit',\n",
       " 'Dispril',\n",
       " 'Easprin',\n",
       " 'Ecotrin',\n",
       " 'Endosprin',\n",
       " 'Magnecyl',\n",
       " 'Micristin',\n",
       " 'Polopirin',\n",
       " 'Polopiryna',\n",
       " 'Solprin',\n",
       " 'Solupsan',\n",
       " 'Zorprin']"
      ]
     },
     "metadata": {},
     "execution_count": 75
    }
   ],
   "metadata": {}
  },
  {
   "cell_type": "markdown",
   "source": [
    "## Tarefa 4\n",
    "### Escolha algum lugar no OpenStreetMap e elabore a mesma sequência de três chamadas de serviços para o seu conceito."
   ],
   "metadata": {}
  },
  {
   "cell_type": "code",
   "execution_count": 76,
   "source": [
    "def get_osm_data(format, query):\n",
    "    url_template = f\"http://nominatim.openstreetmap.org/search?format={format}&q={query}\"\n",
    "    url_req = requests.get(url_template)\n",
    "    json_req = url_req.json()\n",
    "    return json_req\n",
    "data = get_osm_data('json', 'Santo André')\n",
    "data = data[0]\n",
    "data"
   ],
   "outputs": [
    {
     "output_type": "execute_result",
     "data": {
      "text/plain": [
       "{'place_id': 256927215,\n",
       " 'licence': 'Data © OpenStreetMap contributors, ODbL 1.0. https://osm.org/copyright',\n",
       " 'osm_type': 'relation',\n",
       " 'osm_id': 298086,\n",
       " 'boundingbox': ['-23.8158052', '-23.6056577', '-46.5673015', '-46.278377'],\n",
       " 'lat': '-23.6573395',\n",
       " 'lon': '-46.5322504',\n",
       " 'display_name': 'Santo André, Região Imediata de São Paulo, Região Metropolitana de São Paulo, Região Geográfica Intermediária de São Paulo, São Paulo, Região Sudeste, Brasil',\n",
       " 'class': 'boundary',\n",
       " 'type': 'administrative',\n",
       " 'importance': 0.732051699225261,\n",
       " 'icon': 'https://nominatim.openstreetmap.org/ui/mapicons//poi_boundary_administrative.p.20.png'}"
      ]
     },
     "metadata": {},
     "execution_count": 76
    }
   ],
   "metadata": {}
  },
  {
   "cell_type": "code",
   "execution_count": 77,
   "source": [
    "id_osm = data['osm_id']\n",
    "id_osm"
   ],
   "outputs": [
    {
     "output_type": "execute_result",
     "data": {
      "text/plain": [
       "298086"
      ]
     },
     "metadata": {},
     "execution_count": 77
    }
   ],
   "metadata": {}
  },
  {
   "cell_type": "code",
   "execution_count": 78,
   "source": [
    "def get_details_osm(id, format, et):\n",
    "    url = f\"https://api.openstreetmap.org/api/0.6/{et}/{str(id)}.{format}\"\n",
    "    req_url = requests.get(url)\n",
    "    return req_url.json()\n",
    "\n",
    "s_data = get_details_osm(id_osm, 'json', 'relation')\n",
    "wiki_data = s_data['elements'][0]['tags']['wikipedia']\n",
    "wiki_data = wiki_data.split(':')\n",
    "wiki_data"
   ],
   "outputs": [
    {
     "output_type": "execute_result",
     "data": {
      "text/plain": [
       "['pt', 'Santo André (São Paulo)']"
      ]
     },
     "metadata": {},
     "execution_count": 78
    }
   ],
   "metadata": {}
  },
  {
   "cell_type": "code",
   "execution_count": 80,
   "source": [
    "def get_dbpedia_data(wiki_data):\n",
    "    concept = wiki_data[1].replace(' ','_')\n",
    "    url = f\"http://dbpedia.org/data/{concept}.json\"\n",
    "    url_req = requests.get(url)\n",
    "    print(json.dumps(url_req.json(), indent = 3, ensure_ascii=False))\n",
    "get_dbpedia_data(wiki_data)"
   ],
   "outputs": [
    {
     "output_type": "stream",
     "name": "stdout",
     "text": [
      "{\n",
      "   \"http://en.wikipedia.org/wiki/Santo_Andr\\u00e9_(S\\u00e3o_Paulo)\": {\n",
      "      \"http://xmlns.com/foaf/0.1/primaryTopic\": [\n",
      "         {\n",
      "            \"type\": \"uri\",\n",
      "            \"value\": \"http://dbpedia.org/resource/Santo_Andr\\u00e9_(S\\u00e3o_Paulo)\"\n",
      "         }\n",
      "      ]\n",
      "   },\n",
      "   \"http://dbpedia.org/resource/Santo_Andr\\u00e9_(S\\u00e3o_Paulo)\": {\n",
      "      \"http://www.w3.org/2000/01/rdf-schema#label\": [\n",
      "         {\n",
      "            \"type\": \"literal\",\n",
      "            \"value\": \"Santo Andr\\u00e9 (S\\u00e3o Paulo)\",\n",
      "            \"lang\": \"en\"\n",
      "         }\n",
      "      ],\n",
      "      \"http://xmlns.com/foaf/0.1/isPrimaryTopicOf\": [\n",
      "         {\n",
      "            \"type\": \"uri\",\n",
      "            \"value\": \"http://en.wikipedia.org/wiki/Santo_Andr\\u00e9_(S\\u00e3o_Paulo)\"\n",
      "         }\n",
      "      ],\n",
      "      \"http://www.w3.org/2002/07/owl#sameAs\": [\n",
      "         {\n",
      "            \"type\": \"uri\",\n",
      "            \"value\": \"http://dbpedia.org/resource/Santo_Andr\\u00e9_(S\\u00e3o_Paulo)\"\n",
      "         }\n",
      "      ],\n",
      "      \"http://www.w3.org/ns/prov#wasDerivedFrom\": [\n",
      "         {\n",
      "            \"type\": \"uri\",\n",
      "            \"value\": \"http://en.wikipedia.org/wiki/Santo_Andr\\u00e9_(S\\u00e3o_Paulo)?oldid=345864596&ns=0\"\n",
      "         }\n",
      "      ],\n",
      "      \"http://dbpedia.org/ontology/wikiPageWikiLink\": [\n",
      "         {\n",
      "            \"type\": \"uri\",\n",
      "            \"value\": \"http://dbpedia.org/resource/Santo_Andr\\u00e9,_S\\u00e3o_Paulo\"\n",
      "         }\n",
      "      ],\n",
      "      \"http://dbpedia.org/property/wikiPageUsesTemplate\": [\n",
      "         {\n",
      "            \"type\": \"uri\",\n",
      "            \"value\": \"http://dbpedia.org/resource/Template:R_from_modification\"\n",
      "         }\n",
      "      ],\n",
      "      \"http://dbpedia.org/ontology/wikiPageLength\": [\n",
      "         {\n",
      "            \"type\": \"literal\",\n",
      "            \"value\": \"60\",\n",
      "            \"datatype\": \"http://www.w3.org/2001/XMLSchema#nonNegativeInteger\"\n",
      "         }\n",
      "      ],\n",
      "      \"http://dbpedia.org/ontology/wikiPageRevisionID\": [\n",
      "         {\n",
      "            \"type\": \"literal\",\n",
      "            \"value\": 345864596,\n",
      "            \"datatype\": \"http://www.w3.org/2001/XMLSchema#integer\"\n",
      "         }\n",
      "      ],\n",
      "      \"http://dbpedia.org/ontology/wikiPageID\": [\n",
      "         {\n",
      "            \"type\": \"literal\",\n",
      "            \"value\": 5193571,\n",
      "            \"datatype\": \"http://www.w3.org/2001/XMLSchema#integer\"\n",
      "         }\n",
      "      ],\n",
      "      \"http://dbpedia.org/ontology/wikiPageRedirects\": [\n",
      "         {\n",
      "            \"type\": \"uri\",\n",
      "            \"value\": \"http://dbpedia.org/resource/Santo_Andr\\u00e9,_S\\u00e3o_Paulo\"\n",
      "         }\n",
      "      ]\n",
      "   }\n",
      "}\n"
     ]
    }
   ],
   "metadata": {}
  }
 ],
 "metadata": {
  "kernelspec": {
   "name": "python3",
   "display_name": "Python 3.8.10 64-bit"
  },
  "language_info": {
   "codemirror_mode": {
    "name": "ipython",
    "version": 3
   },
   "file_extension": ".py",
   "mimetype": "text/x-python",
   "name": "python",
   "nbconvert_exporter": "python",
   "pygments_lexer": "ipython3",
   "version": "3.8.10"
  },
  "interpreter": {
   "hash": "916dbcbb3f70747c44a77c7bcd40155683ae19c65e1c03b4aa3499c5328201f1"
  }
 },
 "nbformat": 4,
 "nbformat_minor": 5
}